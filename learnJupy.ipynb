{
 "cells": [
  {
   "cell_type": "code",
   "execution_count": 1,
   "metadata": {
    "scrolled": true
   },
   "outputs": [
    {
     "name": "stdout",
     "output_type": "stream",
     "text": [
      "D:\\Vasu\\Projects\\pypy\\titanic\n"
     ]
    }
   ],
   "source": [
    "%cd \"D://Vasu/Projects/pypy/titanic/\"\n",
    "\n",
    "import pandas\n",
    "import numpy\n",
    "import re\n",
    "import cleaner\n",
    "\n",
    "crude = pandas.read_csv(\"test.csv\")\n",
    "NUMROWS = crude.shape[0]\n",
    "for i in range(0, NUMROWS):\n",
    "   crude.loc[i,['Name']] = cleaner.name_extract(crude.loc[i,['Name']].Name)\n",
    "#crude.to_csv('modified/layer1.csv', index=False)"
   ]
  },
  {
   "cell_type": "code",
   "execution_count": 3,
   "metadata": {
    "scrolled": false
   },
   "outputs": [],
   "source": [
    "#layer1 = pandas.read_csv(\"modified/layer1.csv\")\n",
    "SALLIST = {'Mr':16, 'Miss':70, 'Master':58, 'Mrs':79, 'Dr':43}\n",
    "for i in range(0, NUMROWS):\n",
    "    if crude.loc[i,['Name']].Name in SALLIST:\n",
    "        crude.loc[i,['Name']] = SALLIST[crude.loc[i,['Name']].Name]\n",
    "    else:\n",
    "        crude.loc[i,['Name']] = numpy.NaN\n",
    "#layer1.to_csv('modified/layer2.csv', index=False)"
   ]
  },
  {
   "cell_type": "code",
   "execution_count": 4,
   "metadata": {
    "collapsed": true
   },
   "outputs": [],
   "source": [
    "#layer2 = pandas.read_csv(\"modified/layer2.csv\")\n",
    "for i in range(0, NUMROWS):\n",
    "     if crude.loc[i,['Sex']].Sex == 'male':\n",
    "        crude.loc[i,['Sex']] = 0\n",
    "     elif crude.loc[i,['Sex']].Sex == 'female':\n",
    "        crude.loc[i,['Sex']] = 1\n",
    "     else:\n",
    "        crude.loc[i,['Sex']] = numpy.NaN\n",
    "#layer2.to_csv('modified/layer3.csv', index=False)"
   ]
  },
  {
   "cell_type": "code",
   "execution_count": 5,
   "metadata": {
    "collapsed": true
   },
   "outputs": [],
   "source": [
    "#layer3 = pandas.read_csv(\"modified/layer3.csv\")\n",
    "for i in range(0, NUMROWS):\n",
    "    if not pandas.isnull(crude.loc[i,['Cabin']]).Cabin:\n",
    "        crude.loc[i,['Cabin']] = crude.loc[i,['Cabin']].Cabin[0]\n",
    "#layer3.to_csv('modified/layer4.csv', index=False)"
   ]
  },
  {
   "cell_type": "code",
   "execution_count": 7,
   "metadata": {},
   "outputs": [],
   "source": [
    "#layer4 = pandas.read_csv(\"modified/layer4.csv\")\n",
    "CABINLIST = {'A':47,'B':74,'C':59,'D':76,'E':75,'F':62,'G':50,'T':0}\n",
    "for i in range(0, NUMROWS):\n",
    "    if crude.loc[i,['Cabin']].Cabin in CABINLIST:\n",
    "        crude.loc[i,['Cabin']] = CABINLIST[crude.loc[i,['Cabin']].Cabin]\n",
    "    else:\n",
    "        crude.loc[i,['Cabin']] = numpy.NaN\n",
    "#layer4.to_csv('modified/layer5.csv', index=False)"
   ]
  },
  {
   "cell_type": "code",
   "execution_count": 10,
   "metadata": {},
   "outputs": [],
   "source": [
    "#layer5 = pandas.read_csv(\"modified/layer5.csv\")\n",
    "ELIST = {'C':55,'Q':39,'S':34}\n",
    "for i in range(0, NUMROWS):\n",
    "    if crude.loc[i,['Embarked']].Embarked in ELIST:\n",
    "        crude.loc[i,['Embarked']] = ELIST[crude.loc[i,['Embarked']].Embarked]\n",
    "    else:\n",
    "        crude.loc[i,['Embarked']] = numpy.NaN\n",
    "crude.to_csv('test_processed.csv', index=False)"
   ]
  }
 ],
 "metadata": {
  "kernelspec": {
   "display_name": "Python 3",
   "language": "python",
   "name": "python3"
  },
  "language_info": {
   "codemirror_mode": {
    "name": "ipython",
    "version": 3
   },
   "file_extension": ".py",
   "mimetype": "text/x-python",
   "name": "python",
   "nbconvert_exporter": "python",
   "pygments_lexer": "ipython3",
   "version": "3.6.3"
  }
 },
 "nbformat": 4,
 "nbformat_minor": 2
}
